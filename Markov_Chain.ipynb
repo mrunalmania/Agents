{
  "nbformat": 4,
  "nbformat_minor": 0,
  "metadata": {
    "colab": {
      "provenance": [],
      "gpuType": "T4",
      "authorship_tag": "ABX9TyM5kzpTJPq+TotazKGgYSUl",
      "include_colab_link": true
    },
    "kernelspec": {
      "name": "python3",
      "display_name": "Python 3"
    },
    "language_info": {
      "name": "python"
    },
    "accelerator": "GPU"
  },
  "cells": [
    {
      "cell_type": "markdown",
      "metadata": {
        "id": "view-in-github",
        "colab_type": "text"
      },
      "source": [
        "<a href=\"https://colab.research.google.com/github/mrunalmania/Agents/blob/main/Markov_Chain.ipynb\" target=\"_parent\"><img src=\"https://colab.research.google.com/assets/colab-badge.svg\" alt=\"Open In Colab\"/></a>"
      ]
    },
    {
      "cell_type": "code",
      "execution_count": null,
      "metadata": {
        "colab": {
          "base_uri": "https://localhost:8080/"
        },
        "id": "NODRex9Tyxfj",
        "outputId": "16ff0c81-d45e-4d4c-f711-914cd563b991"
      },
      "outputs": [
        {
          "output_type": "stream",
          "name": "stdout",
          "text": [
            "Requirement already satisfied: torch in /usr/local/lib/python3.11/dist-packages (2.5.1+cu121)\n",
            "Requirement already satisfied: filelock in /usr/local/lib/python3.11/dist-packages (from torch) (3.16.1)\n",
            "Requirement already satisfied: typing-extensions>=4.8.0 in /usr/local/lib/python3.11/dist-packages (from torch) (4.12.2)\n",
            "Requirement already satisfied: networkx in /usr/local/lib/python3.11/dist-packages (from torch) (3.4.2)\n",
            "Requirement already satisfied: jinja2 in /usr/local/lib/python3.11/dist-packages (from torch) (3.1.5)\n",
            "Requirement already satisfied: fsspec in /usr/local/lib/python3.11/dist-packages (from torch) (2024.10.0)\n",
            "Requirement already satisfied: nvidia-cuda-nvrtc-cu12==12.1.105 in /usr/local/lib/python3.11/dist-packages (from torch) (12.1.105)\n",
            "Requirement already satisfied: nvidia-cuda-runtime-cu12==12.1.105 in /usr/local/lib/python3.11/dist-packages (from torch) (12.1.105)\n",
            "Requirement already satisfied: nvidia-cuda-cupti-cu12==12.1.105 in /usr/local/lib/python3.11/dist-packages (from torch) (12.1.105)\n",
            "Requirement already satisfied: nvidia-cudnn-cu12==9.1.0.70 in /usr/local/lib/python3.11/dist-packages (from torch) (9.1.0.70)\n",
            "Requirement already satisfied: nvidia-cublas-cu12==12.1.3.1 in /usr/local/lib/python3.11/dist-packages (from torch) (12.1.3.1)\n",
            "Requirement already satisfied: nvidia-cufft-cu12==11.0.2.54 in /usr/local/lib/python3.11/dist-packages (from torch) (11.0.2.54)\n",
            "Requirement already satisfied: nvidia-curand-cu12==10.3.2.106 in /usr/local/lib/python3.11/dist-packages (from torch) (10.3.2.106)\n",
            "Requirement already satisfied: nvidia-cusolver-cu12==11.4.5.107 in /usr/local/lib/python3.11/dist-packages (from torch) (11.4.5.107)\n",
            "Requirement already satisfied: nvidia-cusparse-cu12==12.1.0.106 in /usr/local/lib/python3.11/dist-packages (from torch) (12.1.0.106)\n",
            "Requirement already satisfied: nvidia-nccl-cu12==2.21.5 in /usr/local/lib/python3.11/dist-packages (from torch) (2.21.5)\n",
            "Requirement already satisfied: nvidia-nvtx-cu12==12.1.105 in /usr/local/lib/python3.11/dist-packages (from torch) (12.1.105)\n",
            "Requirement already satisfied: triton==3.1.0 in /usr/local/lib/python3.11/dist-packages (from torch) (3.1.0)\n",
            "Requirement already satisfied: sympy==1.13.1 in /usr/local/lib/python3.11/dist-packages (from torch) (1.13.1)\n",
            "Requirement already satisfied: nvidia-nvjitlink-cu12 in /usr/local/lib/python3.11/dist-packages (from nvidia-cusolver-cu12==11.4.5.107->torch) (12.6.85)\n",
            "Requirement already satisfied: mpmath<1.4,>=1.1.0 in /usr/local/lib/python3.11/dist-packages (from sympy==1.13.1->torch) (1.3.0)\n",
            "Requirement already satisfied: MarkupSafe>=2.0 in /usr/local/lib/python3.11/dist-packages (from jinja2->torch) (3.0.2)\n"
          ]
        }
      ],
      "source": [
        "!pip3 install torch"
      ]
    },
    {
      "cell_type": "code",
      "source": [
        "!pip3 install gym"
      ],
      "metadata": {
        "colab": {
          "base_uri": "https://localhost:8080/"
        },
        "id": "Ka9G0W3o0naG",
        "outputId": "0636052d-64ff-4ac1-cc8b-75e66f6d85be"
      },
      "execution_count": null,
      "outputs": [
        {
          "output_type": "stream",
          "name": "stdout",
          "text": [
            "Requirement already satisfied: gym in /usr/local/lib/python3.11/dist-packages (0.25.2)\n",
            "Requirement already satisfied: numpy>=1.18.0 in /usr/local/lib/python3.11/dist-packages (from gym) (1.26.4)\n",
            "Requirement already satisfied: cloudpickle>=1.2.0 in /usr/local/lib/python3.11/dist-packages (from gym) (3.1.0)\n",
            "Requirement already satisfied: gym_notices>=0.0.4 in /usr/local/lib/python3.11/dist-packages (from gym) (0.0.8)\n"
          ]
        }
      ]
    },
    {
      "cell_type": "code",
      "source": [
        "### Let's crreate the study and sleep process Markov chain.\n",
        "\n",
        "import torch\n",
        "\n",
        "T = torch.tensor([[0.4, 0.6], [0.8, 0.2]])\n",
        "\n",
        "print(T)"
      ],
      "metadata": {
        "colab": {
          "base_uri": "https://localhost:8080/"
        },
        "id": "DX5V9zOP0qAb",
        "outputId": "9359d84b-dfb5-46fd-aa59-b50ed86b9883"
      },
      "execution_count": null,
      "outputs": [
        {
          "output_type": "stream",
          "name": "stdout",
          "text": [
            "tensor([[0.4000, 0.6000],\n",
            "        [0.8000, 0.2000]])\n"
          ]
        }
      ]
    },
    {
      "cell_type": "code",
      "source": [
        "# calculate the transition probability after k = 2, 5, 10, 15 and 20\n",
        "\n",
        "T_2 = torch.matrix_power(T, 2)\n",
        "T_5 = torch.matrix_power(T, 5)\n",
        "T_10 = torch.matrix_power(T, 10)\n",
        "T_15 = torch.matrix_power(T, 15)\n",
        "T_20 = torch.matrix_power(T, 20)\n",
        "\n",
        "print(T_2)\n",
        "print(T_5)\n",
        "print(T_10)\n",
        "print(T_15)\n",
        "print(T_20)"
      ],
      "metadata": {
        "colab": {
          "base_uri": "https://localhost:8080/"
        },
        "id": "dAQdwhru2PoQ",
        "outputId": "eabdebe0-594c-4a5b-ee85-cb96b7ff35af"
      },
      "execution_count": null,
      "outputs": [
        {
          "output_type": "stream",
          "name": "stdout",
          "text": [
            "tensor([[0.6400, 0.3600],\n",
            "        [0.4800, 0.5200]])\n",
            "tensor([[0.5670, 0.4330],\n",
            "        [0.5773, 0.4227]])\n",
            "tensor([[0.5715, 0.4285],\n",
            "        [0.5714, 0.4286]])\n",
            "tensor([[0.5714, 0.4286],\n",
            "        [0.5714, 0.4286]])\n",
            "tensor([[0.5714, 0.4286],\n",
            "        [0.5714, 0.4286]])\n"
          ]
        }
      ]
    },
    {
      "cell_type": "code",
      "source": [
        "# define the intial distribution of the state\n",
        "\n",
        "v = torch.tensor([0.7, 0.3])\n"
      ],
      "metadata": {
        "id": "ntZ4bRCk2ruS"
      },
      "execution_count": null,
      "outputs": []
    },
    {
      "cell_type": "code",
      "source": [
        "# caculate the state distribution after k = 1, 2, 5,10,15 and 20.\n",
        "\n",
        "v_1 = torch.matmul(v, T)\n",
        "v_2 = torch.matmul(v, T_2)\n",
        "v_5 = torch.matmul(v, T_5)\n",
        "v_10 = torch.matmul(v, T_10)\n",
        "v_15 = torch.matmul(v, T_15)\n",
        "v_20 = torch.matmul(v, T_20)\n",
        "\n",
        "print(v_1)\n",
        "print(v_2)\n",
        "print(v_5)\n",
        "print(v_10)\n",
        "print(v_15)\n",
        "print(v_20)"
      ],
      "metadata": {
        "colab": {
          "base_uri": "https://localhost:8080/"
        },
        "id": "qg5kcdFq29w5",
        "outputId": "bd2a4fcf-d62a-47e0-8974-ca313b57ea34"
      },
      "execution_count": null,
      "outputs": [
        {
          "output_type": "stream",
          "name": "stdout",
          "text": [
            "tensor([0.5200, 0.4800])\n",
            "tensor([0.5920, 0.4080])\n",
            "tensor([0.5701, 0.4299])\n",
            "tensor([0.5714, 0.4286])\n",
            "tensor([0.5714, 0.4286])\n",
            "tensor([0.5714, 0.4286])\n"
          ]
        }
      ]
    },
    {
      "cell_type": "code",
      "source": [
        "import torch\n",
        "\n",
        "T = torch.tensor([[[0.8, 0.1, 0.1],\n",
        "                   [0.1, 0.6, 0.3]],\n",
        "                  [[0.7, 0.2, 0.1],\n",
        "                   [0.1, 0.8, 0.1]],\n",
        "                  [[0.6, 0.2, 0.2],\n",
        "                   [0.1, 0.4, 0.5]]])\n"
      ],
      "metadata": {
        "id": "1AYCRFhT4Np7"
      },
      "execution_count": null,
      "outputs": []
    },
    {
      "cell_type": "code",
      "source": [
        "print(T)"
      ],
      "metadata": {
        "colab": {
          "base_uri": "https://localhost:8080/"
        },
        "id": "WE3jAj5x-0KN",
        "outputId": "d051cbb5-ef2a-454c-a2f8-0d53929b2450"
      },
      "execution_count": null,
      "outputs": [
        {
          "output_type": "stream",
          "name": "stdout",
          "text": [
            "tensor([[[0.8000, 0.1000, 0.1000],\n",
            "         [0.1000, 0.6000, 0.3000]],\n",
            "\n",
            "        [[0.7000, 0.2000, 0.1000],\n",
            "         [0.1000, 0.8000, 0.1000]],\n",
            "\n",
            "        [[0.6000, 0.2000, 0.2000],\n",
            "         [0.1000, 0.4000, 0.5000]]])\n"
          ]
        }
      ]
    },
    {
      "cell_type": "code",
      "source": [
        "R = torch.tensor([1., 0. , -1.])\n",
        "gamma = 0.5"
      ],
      "metadata": {
        "id": "YYwrG6ic-1EL"
      },
      "execution_count": null,
      "outputs": []
    },
    {
      "cell_type": "code",
      "source": [
        "action = 0"
      ],
      "metadata": {
        "id": "nus83kDF_Fep"
      },
      "execution_count": null,
      "outputs": []
    },
    {
      "cell_type": "code",
      "source": [
        "def cal_val_matrix_inversion(rewards, trans_matrix, gamma):\n",
        "  inv = torch.inverse(torch.eye(rewards.shape[0]) - gamma * trans_matrix)\n",
        "  return torch.matmul(inv, rewards.reshape(-1, 1))\n"
      ],
      "metadata": {
        "id": "JnUt3D8O_IZo"
      },
      "execution_count": null,
      "outputs": []
    },
    {
      "cell_type": "code",
      "source": [
        "trans_matrix = T[:, action]\n",
        "V = cal_val_matrix_inversion(R, trans_matrix, gamma)\n"
      ],
      "metadata": {
        "id": "7DLxm7gLAdxz"
      },
      "execution_count": null,
      "outputs": []
    },
    {
      "cell_type": "code",
      "source": [
        "print(V)"
      ],
      "metadata": {
        "colab": {
          "base_uri": "https://localhost:8080/"
        },
        "id": "ySsP1DIYAxvp",
        "outputId": "49e60ad2-5f8d-4046-a302-28bad59f2f20"
      },
      "execution_count": null,
      "outputs": [
        {
          "output_type": "stream",
          "name": "stdout",
          "text": [
            "tensor([[ 1.6787],\n",
            "        [ 0.6260],\n",
            "        [-0.4820]])\n"
          ]
        }
      ]
    },
    {
      "cell_type": "code",
      "source": [
        "print(trans_matrix)"
      ],
      "metadata": {
        "colab": {
          "base_uri": "https://localhost:8080/"
        },
        "id": "GB9Kbq2MAypq",
        "outputId": "076dc3e0-13ec-42e1-8dea-5b3908bbdcc4"
      },
      "execution_count": null,
      "outputs": [
        {
          "output_type": "stream",
          "name": "stdout",
          "text": [
            "tensor([[0.8000, 0.1000, 0.1000],\n",
            "        [0.7000, 0.2000, 0.1000],\n",
            "        [0.6000, 0.2000, 0.2000]])\n"
          ]
        }
      ]
    },
    {
      "cell_type": "code",
      "source": [
        "# let's make discount factor zero.\n",
        "\n",
        "gamma = 0.\n",
        "\n",
        "V = cal_val_matrix_inversion(R, T[:, action], gamma)\n",
        "print(V)"
      ],
      "metadata": {
        "colab": {
          "base_uri": "https://localhost:8080/"
        },
        "id": "7MNBMBGTA39Z",
        "outputId": "6c98fcbd-96b4-4cf7-aa58-e5bb575ec549"
      },
      "execution_count": null,
      "outputs": [
        {
          "output_type": "stream",
          "name": "stdout",
          "text": [
            "tensor([[ 1.],\n",
            "        [ 0.],\n",
            "        [-1.]])\n"
          ]
        }
      ]
    },
    {
      "cell_type": "code",
      "source": [
        "gamma = 0.99\n",
        "V = cal_val_matrix_inversion(R, T[:, action], gamma)\n",
        "print(V)"
      ],
      "metadata": {
        "colab": {
          "base_uri": "https://localhost:8080/"
        },
        "id": "mAdydvAYClHQ",
        "outputId": "865475f2-5f74-42f6-9ea0-084149206c2d"
      },
      "execution_count": null,
      "outputs": [
        {
          "output_type": "stream",
          "name": "stdout",
          "text": [
            "tensor([[65.8293],\n",
            "        [64.7194],\n",
            "        [63.4876]])\n"
          ]
        }
      ]
    },
    {
      "cell_type": "markdown",
      "source": [
        "## Policy Evaluation"
      ],
      "metadata": {
        "id": "2M62CSatEkk4"
      }
    },
    {
      "cell_type": "code",
      "source": [
        "import torch\n",
        "\n",
        "T  = torch.tensor([[[0.8, 0.1, 0.1],\n",
        "                    [0.1, 0.6, 0.3]],\n",
        "                   [[0.7, 0.2, 0.1],\n",
        "                    [0.1, 0.8, 0.1]],\n",
        "                   [[0.6, 0.2, 0.2],\n",
        "                    [0.1, 0.4, 0.5]]])\n",
        "\n",
        "print(T)"
      ],
      "metadata": {
        "colab": {
          "base_uri": "https://localhost:8080/"
        },
        "id": "MYNwNtXGCC71",
        "outputId": "ebd6cfff-af11-4694-ef7e-c4e9a6a4440d"
      },
      "execution_count": null,
      "outputs": [
        {
          "output_type": "stream",
          "name": "stdout",
          "text": [
            "tensor([[[0.8000, 0.1000, 0.1000],\n",
            "         [0.1000, 0.6000, 0.3000]],\n",
            "\n",
            "        [[0.7000, 0.2000, 0.1000],\n",
            "         [0.1000, 0.8000, 0.1000]],\n",
            "\n",
            "        [[0.6000, 0.2000, 0.2000],\n",
            "         [0.1000, 0.4000, 0.5000]]])\n"
          ]
        }
      ]
    },
    {
      "cell_type": "code",
      "source": [
        "R = torch.tensor([1., 0., -1.])\n",
        "gamma = 0.5"
      ],
      "metadata": {
        "id": "U9Kx7yHsEvlf"
      },
      "execution_count": null,
      "outputs": []
    },
    {
      "cell_type": "code",
      "source": [
        "# here in policy evaluation we need to define the threshold to determine when to stop.\n",
        "\n",
        "threshold = 0.0001"
      ],
      "metadata": {
        "id": "XgcCQNqJFDJc"
      },
      "execution_count": null,
      "outputs": []
    },
    {
      "cell_type": "code",
      "source": [
        "# let's define the policy where action a0 (studying) choosen in all circumstances.\n",
        "\n",
        "policy_optimal = torch.tensor([[1.0, 0.0], [1.0, 0.0], [1.0, 0.0]])"
      ],
      "metadata": {
        "id": "mlnlybbHFQvX"
      },
      "execution_count": null,
      "outputs": []
    },
    {
      "cell_type": "code",
      "source": [
        "def policy_evaluation(policy, rewards, trans_matrix, gamma, threshold):\n",
        "  n_state = policy.shape[0]\n",
        "  V = torch.zeros(n_state)\n",
        "\n",
        "  while True:\n",
        "    V_temp = torch.zeros(n_state)\n",
        "    for state , actions in enumerate(policy):\n",
        "      for action, action_prob in enumerate(actions):\n",
        "        V_temp[state] += action_prob * (R[state] + gamma * torch.dot(T[state, action] , V))\n",
        "\n",
        "    max_delta = torch.max(torch.abs(V - V_temp))\n",
        "\n",
        "    if max_delta < threshold:\n",
        "      break\n",
        "\n",
        "    V = V_temp\n",
        "\n",
        "  return V\n"
      ],
      "metadata": {
        "id": "_PaUHlCgFkRm"
      },
      "execution_count": null,
      "outputs": []
    },
    {
      "cell_type": "code",
      "source": [
        "# let's check with optimal policy\n",
        "\n",
        "V = policy_evaluation(policy_optimal, R, T, gamma, threshold)\n",
        "print(V)"
      ],
      "metadata": {
        "colab": {
          "base_uri": "https://localhost:8080/"
        },
        "id": "0PVyels7164a",
        "outputId": "69df917c-aa74-4c9c-a0a9-675302b45b59"
      },
      "execution_count": null,
      "outputs": [
        {
          "output_type": "stream",
          "name": "stdout",
          "text": [
            "tensor([ 1.6785,  0.6259, -0.4822])\n"
          ]
        }
      ]
    },
    {
      "cell_type": "code",
      "source": [
        "policy_random = torch.tensor([[0.5, 0.5], [0.5, 0.5], [0.5, 0.5]])\n",
        "V_1 = policy_evaluation(policy_random, R, T, gamma, threshold)\n",
        "print(V_1)"
      ],
      "metadata": {
        "colab": {
          "base_uri": "https://localhost:8080/"
        },
        "id": "8cjaCohM2ROV",
        "outputId": "308ebce4-cf20-448b-b2ce-afd3c6977b00"
      },
      "execution_count": null,
      "outputs": [
        {
          "output_type": "stream",
          "name": "stdout",
          "text": [
            "tensor([ 1.2347,  0.2691, -0.9014])\n"
          ]
        }
      ]
    },
    {
      "cell_type": "code",
      "source": [
        "# let's keep track of the history.\n",
        "\n",
        "def policy_evaluation(policy, rewards, trans_matrix, gamma, threshod):\n",
        "  n_state = policy.shape[0]\n",
        "  V = torch.zeros(n_state)\n",
        "  V_his = [V]\n",
        "\n",
        "  while True:\n",
        "    V_temp = torch.zeros(n_state)\n",
        "\n",
        "    for state, actions in enumerate(policy):\n",
        "      for action, action_prob in enumerate(actions):\n",
        "        V_temp[state] += action_prob * (rewards[state] + gamma * torch.dot(trans_matrix[state, action], V))\n",
        "    max_delta = torch.max(torch.abs(V - V_temp))\n",
        "    V = V_temp.clone()\n",
        "    V_his.append(V)\n",
        "\n",
        "    if max_delta < threshold:\n",
        "      break\n",
        "  return V, V_his"
      ],
      "metadata": {
        "id": "2uOrMHK52j15"
      },
      "execution_count": null,
      "outputs": []
    },
    {
      "cell_type": "code",
      "source": [
        "gamma = 0.5"
      ],
      "metadata": {
        "id": "5P_piD7r_xpu"
      },
      "execution_count": null,
      "outputs": []
    },
    {
      "cell_type": "code",
      "source": [
        "V, V_history = policy_evaluation(policy_optimal, R, T, gamma, threshold)\n",
        "print(f\" V: {V} \\n\")\n",
        "print(f\" V_history: {V_history}\")"
      ],
      "metadata": {
        "colab": {
          "base_uri": "https://localhost:8080/"
        },
        "id": "ISKo7177_YNk",
        "outputId": "5068bd71-7a58-402b-dc79-341c3634f03c"
      },
      "execution_count": null,
      "outputs": [
        {
          "output_type": "stream",
          "name": "stdout",
          "text": [
            " V: tensor([ 1.6786,  0.6260, -0.4821]) \n",
            "\n",
            " V_history: [tensor([0., 0., 0.]), tensor([ 1.,  0., -1.]), tensor([ 1.3500,  0.3000, -0.8000]), tensor([ 1.5150,  0.4625, -0.6450]), tensor([ 1.5969,  0.5443, -0.5638]), tensor([ 1.6378,  0.5851, -0.5229]), tensor([ 1.6582,  0.6056, -0.5024]), tensor([ 1.6684,  0.6158, -0.4922]), tensor([ 1.6736,  0.6209, -0.4871]), tensor([ 1.6761,  0.6235, -0.4846]), tensor([ 1.6774,  0.6248, -0.4833]), tensor([ 1.6780,  0.6254, -0.4826]), tensor([ 1.6784,  0.6257, -0.4823]), tensor([ 1.6785,  0.6259, -0.4822]), tensor([ 1.6786,  0.6260, -0.4821])]\n"
          ]
        }
      ]
    },
    {
      "cell_type": "code",
      "source": [
        "# let's plot the graph for V-history.\n",
        "\n",
        "import matplotlib.pyplot as plt\n",
        "\n",
        "s0 = plt.plot([v[0] for v in V_history])\n",
        "s1 = plt.plot([v[1] for v in V_history])\n",
        "s2 = plt.plot([v[2] for v in V_history])\n",
        "\n",
        "plt.title(f\"Gamma: {gamma}\")\n",
        "\n",
        "plt.legend([s0, s1, s2], [\"State 0\", 'State 1', 'State 2'])\n",
        "plt.xlabel(\"Iteration\")\n",
        "plt.ylabel(\"Value\")\n",
        "\n",
        "plt.show()\n",
        "\n"
      ],
      "metadata": {
        "colab": {
          "base_uri": "https://localhost:8080/",
          "height": 541
        },
        "id": "H_LVGs-G_p28",
        "outputId": "9c18bce6-608c-4a55-e2ec-c94ef28192ba"
      },
      "execution_count": null,
      "outputs": [
        {
          "output_type": "stream",
          "name": "stderr",
          "text": [
            "<ipython-input-19-7cca5924240c>:11: UserWarning: Legend does not support handles for list instances.\n",
            "A proxy artist may be used instead.\n",
            "See: https://matplotlib.org/stable/users/explain/axes/legend_guide.html#controlling-the-legend-entries\n",
            "  plt.legend([s0, s1, s2], [\"State 0\", 'State 1', 'State 2'])\n"
          ]
        },
        {
          "output_type": "display_data",
          "data": {
            "text/plain": [
              "<Figure size 640x480 with 1 Axes>"
            ],
            "image/png": "[encoded data removed]"
          },
          "metadata": {}
        }
      ]
    },
    {
      "cell_type": "markdown",
      "source": [
        "## Frozen Lake simulations"
      ],
      "metadata": {
        "id": "6eTCwUu3DZlc"
      }
    },
    {
      "cell_type": "code",
      "source": [
        "import gym\n",
        "import torch\n",
        "\n",
        "env = gym.make('FrozenLake-v1', map_name=\"4x4\", new_step_api=True)"
      ],
      "metadata": {
        "colab": {
          "base_uri": "https://localhost:8080/"
        },
        "id": "ztBrq9oTDb6k",
        "outputId": "dc970ae6-2b5e-4030-e7d0-78f4f30f3dfe"
      },
      "execution_count": null,
      "outputs": [
        {
          "output_type": "stream",
          "name": "stderr",
          "text": [
            "/usr/local/lib/python3.11/dist-packages/ipykernel/ipkernel.py:283: DeprecationWarning: `should_run_async` will not call `transform_cell` automatically in the future. Please pass the result to `transformed_cell` argument and any exception that happen during thetransform in `preprocessing_exc_tuple` in IPython 7.17 and above.\n",
            "  and should_run_async(code)\n"
          ]
        }
      ]
    },
    {
      "cell_type": "code",
      "source": [
        "n_state = env.observation_space.n"
      ],
      "metadata": {
        "id": "ekCSfHXoBRyr"
      },
      "execution_count": null,
      "outputs": []
    },
    {
      "cell_type": "code",
      "source": [
        "print(n_state)"
      ],
      "metadata": {
        "colab": {
          "base_uri": "https://localhost:8080/"
        },
        "id": "94HP9XZ1Dya5",
        "outputId": "d7cda151-b440-4ea5-9845-f54071291d26"
      },
      "execution_count": null,
      "outputs": [
        {
          "output_type": "stream",
          "name": "stdout",
          "text": [
            "16\n"
          ]
        }
      ]
    },
    {
      "cell_type": "code",
      "source": [
        "# action\n",
        "n_action = env.action_space.n"
      ],
      "metadata": {
        "id": "eRIa1X49Dzeg"
      },
      "execution_count": null,
      "outputs": []
    },
    {
      "cell_type": "code",
      "source": [
        "print(n_action)"
      ],
      "metadata": {
        "colab": {
          "base_uri": "https://localhost:8080/"
        },
        "id": "im7RZlueD5dO",
        "outputId": "3e509bf0-bd51-494b-8bcc-f84758ac11b3"
      },
      "execution_count": null,
      "outputs": [
        {
          "output_type": "stream",
          "name": "stdout",
          "text": [
            "4\n"
          ]
        }
      ]
    },
    {
      "cell_type": "code",
      "source": [
        "env.reset()"
      ],
      "metadata": {
        "colab": {
          "base_uri": "https://localhost:8080/"
        },
        "id": "xjAmvMvKD6LQ",
        "outputId": "0d483605-d3a6-4e7d-a531-283e436a9715"
      },
      "execution_count": null,
      "outputs": [
        {
          "output_type": "execute_result",
          "data": {
            "text/plain": [
              "0"
            ]
          },
          "metadata": {},
          "execution_count": 4
        }
      ]
    },
    {
      "cell_type": "code",
      "source": [
        "\n",
        "env.render()"
      ],
      "metadata": {
        "colab": {
          "base_uri": "https://localhost:8080/"
        },
        "id": "on1-PGRwFFxJ",
        "outputId": "86680526-0129-4b70-97ad-a2c6da530a70"
      },
      "execution_count": null,
      "outputs": [
        {
          "output_type": "stream",
          "name": "stderr",
          "text": [
            "/usr/local/lib/python3.11/dist-packages/gym/core.py:49: DeprecationWarning: \u001b[33mWARN: You are calling render method, but you didn't specified the argument render_mode at environment initialization. To maintain backward compatibility, the environment will render in human mode.\n",
            "If you want to render in human mode, initialize the environment in this way: gym.make('EnvName', render_mode='human') and don't call the render method.\n",
            "See here for more information: https://www.gymlibrary.ml/content/api/\u001b[0m\n",
            "  deprecation(\n",
            "/usr/local/lib/python3.11/dist-packages/pygame/pkgdata.py:25: DeprecationWarning: pkg_resources is deprecated as an API. See https://setuptools.pypa.io/en/latest/pkg_resources.html\n",
            "  from pkg_resources import resource_stream, resource_exists\n",
            "/usr/local/lib/python3.11/dist-packages/pkg_resources/__init__.py:3154: DeprecationWarning: Deprecated call to `pkg_resources.declare_namespace('google')`.\n",
            "Implementing implicit namespace packages (as specified in PEP 420) is preferred to `pkg_resources.declare_namespace`. See https://setuptools.pypa.io/en/latest/references/keywords.html#keyword-namespace-packages\n",
            "  declare_namespace(pkg)\n",
            "/usr/local/lib/python3.11/dist-packages/pkg_resources/__init__.py:3154: DeprecationWarning: Deprecated call to `pkg_resources.declare_namespace('google.cloud')`.\n",
            "Implementing implicit namespace packages (as specified in PEP 420) is preferred to `pkg_resources.declare_namespace`. See https://setuptools.pypa.io/en/latest/references/keywords.html#keyword-namespace-packages\n",
            "  declare_namespace(pkg)\n",
            "/usr/local/lib/python3.11/dist-packages/pkg_resources/__init__.py:3154: DeprecationWarning: Deprecated call to `pkg_resources.declare_namespace('sphinxcontrib')`.\n",
            "Implementing implicit namespace packages (as specified in PEP 420) is preferred to `pkg_resources.declare_namespace`. See https://setuptools.pypa.io/en/latest/references/keywords.html#keyword-namespace-packages\n",
            "  declare_namespace(pkg)\n"
          ]
        }
      ]
    },
    {
      "cell_type": "code",
      "source": [
        "new_state, reward, done, info = env.step(1)\n",
        "env.render(mode='human')"
      ],
      "metadata": {
        "colab": {
          "base_uri": "https://localhost:8080/",
          "height": 213
        },
        "id": "T0Fry3UEFGxn",
        "outputId": "1c015809-0452-47ee-b41e-3d80374d7bfa"
      },
      "execution_count": null,
      "outputs": [
        {
          "output_type": "stream",
          "name": "stderr",
          "text": [
            "/usr/local/lib/python3.11/dist-packages/gym/utils/passive_env_checker.py:241: DeprecationWarning: `np.bool8` is a deprecated alias for `np.bool_`.  (Deprecated NumPy 1.24)\n",
            "  if not isinstance(terminated, (bool, np.bool8)):\n"
          ]
        },
        {
          "output_type": "error",
          "ename": "ValueError",
          "evalue": "too many values to unpack (expected 4)",
          "traceback": [
            "\u001b[0;31m---------------------------------------------------------------------------\u001b[0m",
            "\u001b[0;31mValueError\u001b[0m                                Traceback (most recent call last)",
            "\u001b[0;32m<ipython-input-6-efd4b9091d6f>\u001b[0m in \u001b[0;36m<cell line: 0>\u001b[0;34m()\u001b[0m\n\u001b[0;32m----> 1\u001b[0;31m \u001b[0mnew_state\u001b[0m\u001b[0;34m,\u001b[0m \u001b[0mreward\u001b[0m\u001b[0;34m,\u001b[0m \u001b[0mdone\u001b[0m\u001b[0;34m,\u001b[0m \u001b[0minfo\u001b[0m \u001b[0;34m=\u001b[0m \u001b[0menv\u001b[0m\u001b[0;34m.\u001b[0m\u001b[0mstep\u001b[0m\u001b[0;34m(\u001b[0m\u001b[0;36m1\u001b[0m\u001b[0;34m)\u001b[0m\u001b[0;34m\u001b[0m\u001b[0;34m\u001b[0m\u001b[0m\n\u001b[0m\u001b[1;32m      2\u001b[0m \u001b[0menv\u001b[0m\u001b[0;34m.\u001b[0m\u001b[0mrender\u001b[0m\u001b[0;34m(\u001b[0m\u001b[0mmode\u001b[0m\u001b[0;34m=\u001b[0m\u001b[0;34m'human'\u001b[0m\u001b[0;34m)\u001b[0m\u001b[0;34m\u001b[0m\u001b[0;34m\u001b[0m\u001b[0m\n",
            "\u001b[0;31mValueError\u001b[0m: too many values to unpack (expected 4)"
          ]
        }
      ]
    },
    {
      "cell_type": "code",
      "source": [
        "print(new_state)\n",
        "print(reward)\n",
        "print(done)\n",
        "print(info)"
      ],
      "metadata": {
        "colab": {
          "base_uri": "https://localhost:8080/"
        },
        "id": "bRetY3kkFNQa",
        "outputId": "0230d21a-cb43-4999-b57f-63c14d463729"
      },
      "execution_count": null,
      "outputs": [
        {
          "output_type": "stream",
          "name": "stdout",
          "text": [
            "0\n",
            "0.0\n",
            "False\n",
            "{'prob': 0.3333333333333333}\n"
          ]
        }
      ]
    },
    {
      "cell_type": "code",
      "source": [
        "# let's demonstrate how difficult it is to walk on a frozon lake.\n",
        "def run_episode(env, policy):\n",
        "  state = env.reset()\n",
        "  total_reward = 0\n",
        "\n",
        "  is_done = False\n",
        "  while not is_done:\n",
        "    action = policy[state].item()\n",
        "    new_state, reward, is_done, info = env.step(action)\n",
        "    total_reward += reward\n",
        "    state = new_state\n",
        "    if is_done:\n",
        "      break\n",
        "  return total_reward"
      ],
      "metadata": {
        "id": "CBLnBZmhFU1Z",
        "colab": {
          "base_uri": "https://localhost:8080/"
        },
        "outputId": "43bf9891-ace6-4b7e-888c-05e1b3498e8e"
      },
      "execution_count": null,
      "outputs": [
        {
          "output_type": "stream",
          "name": "stderr",
          "text": [
            "/usr/local/lib/python3.11/dist-packages/ipykernel/ipkernel.py:283: DeprecationWarning: `should_run_async` will not call `transform_cell` automatically in the future. Please pass the result to `transformed_cell` argument and any exception that happen during thetransform in `preprocessing_exc_tuple` in IPython 7.17 and above.\n",
            "  and should_run_async(code)\n"
          ]
        }
      ]
    },
    {
      "cell_type": "code",
      "source": [
        "test = torch.randint(high=2, size=(100,))\n",
        "print(test)"
      ],
      "metadata": {
        "colab": {
          "base_uri": "https://localhost:8080/"
        },
        "id": "QFUpsH-cZbn0",
        "outputId": "c8d6ab9a-273a-4f73-fab2-0f5bae46e618"
      },
      "execution_count": null,
      "outputs": [
        {
          "output_type": "stream",
          "name": "stdout",
          "text": [
            "tensor([0, 0, 0, 0, 0, 0, 0, 1, 1, 0, 0, 0, 1, 1, 1, 1, 1, 0, 0, 0, 1, 0, 1, 0,\n",
            "        0, 0, 1, 0, 1, 0, 0, 0, 0, 1, 0, 1, 0, 0, 0, 1, 0, 1, 1, 1, 1, 0, 1, 1,\n",
            "        1, 1, 1, 0, 0, 0, 1, 1, 1, 1, 1, 1, 1, 1, 1, 1, 1, 1, 0, 0, 1, 0, 1, 1,\n",
            "        0, 1, 0, 1, 0, 1, 0, 0, 1, 0, 1, 0, 0, 1, 1, 1, 1, 1, 1, 1, 0, 0, 0, 0,\n",
            "        0, 1, 0, 0])\n"
          ]
        }
      ]
    },
    {
      "cell_type": "code",
      "source": [
        "n_episodes = 1000\n",
        "total_rewards = []\n",
        "\n",
        "for i in range(n_episodes):\n",
        "  policy = torch.randint(high=n_action, size=(n_state,))\n",
        "  total_reward = run_episode(env,policy)\n",
        "  total_rewards.append(total_reward)\n",
        "\n",
        "avg_reward = sum(total_rewards) / n_episodes\n",
        "print(f\"Average reward: {avg_reward}\")\n"
      ],
      "metadata": {
        "colab": {
          "base_uri": "https://localhost:8080/"
        },
        "id": "IjxCM4TfYuIq",
        "outputId": "0b00a621-ff12-48ee-8fbb-c971c5c5eec5"
      },
      "execution_count": null,
      "outputs": [
        {
          "output_type": "stream",
          "name": "stderr",
          "text": [
            "/usr/local/lib/python3.11/dist-packages/ipykernel/ipkernel.py:283: DeprecationWarning: `should_run_async` will not call `transform_cell` automatically in the future. Please pass the result to `transformed_cell` argument and any exception that happen during thetransform in `preprocessing_exc_tuple` in IPython 7.17 and above.\n",
            "  and should_run_async(code)\n"
          ]
        },
        {
          "output_type": "stream",
          "name": "stdout",
          "text": [
            "Average reward: 0.011\n"
          ]
        }
      ]
    },
    {
      "cell_type": "code",
      "source": [
        "# let's search for the best policy\n",
        "while True:\n",
        "  policy = torch.randint(high=n_action, size=(n_state,))\n",
        "  total_reward = run_episode(env, policy)\n",
        "  if total_reward == 1:\n",
        "    best_policy = policy\n",
        "    break"
      ],
      "metadata": {
        "id": "eCRZOZOtaDXO"
      },
      "execution_count": null,
      "outputs": []
    },
    {
      "cell_type": "code",
      "source": [
        "print(best_policy)"
      ],
      "metadata": {
        "colab": {
          "base_uri": "https://localhost:8080/"
        },
        "id": "3njYK9Sxak1k",
        "outputId": "bda1b557-c856-463f-e66e-b327a2d3b82c"
      },
      "execution_count": null,
      "outputs": [
        {
          "output_type": "stream",
          "name": "stdout",
          "text": [
            "tensor([1, 2, 2, 0, 2, 0, 0, 1, 1, 1, 0, 2, 1, 1, 1, 2])\n"
          ]
        }
      ]
    },
    {
      "cell_type": "code",
      "source": [
        "# now let's run the 1000 episodes with best policy.\n",
        "total_rewards = []\n",
        "for i in range(1000):\n",
        "  total_reward = run_episode(env, best_policy)\n",
        "  total_rewards.append(total_reward)\n",
        "\n",
        "avg_reward = sum(total_rewards) / 1000\n",
        "print(avg_reward)\n"
      ],
      "metadata": {
        "colab": {
          "base_uri": "https://localhost:8080/"
        },
        "id": "4JAM7aPUamrX",
        "outputId": "e6b9b7f3-50f3-4226-f78d-3fba01648f20"
      },
      "execution_count": null,
      "outputs": [
        {
          "output_type": "stream",
          "name": "stdout",
          "text": [
            "0.056\n"
          ]
        }
      ]
    },
    {
      "cell_type": "code",
      "source": [],
      "metadata": {
        "id": "poFUBTobbB2s"
      },
      "execution_count": null,
      "outputs": []
    }
  ]
}